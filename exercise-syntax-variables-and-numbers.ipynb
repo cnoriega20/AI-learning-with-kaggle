{
 "cells": [
  {
   "cell_type": "code",
   "execution_count": null,
   "id": "01f95713",
   "metadata": {
    "papermill": {
     "duration": 0.005441,
     "end_time": "2025-09-07T15:24:18.547954",
     "exception": false,
     "start_time": "2025-09-07T15:24:18.542513",
     "status": "completed"
    },
    "tags": []
   },
   "outputs": [],
   "source": []
  },
  {
   "cell_type": "code",
   "execution_count": null,
   "id": "62527007",
   "metadata": {
    "execution": {
     "iopub.execute_input": "2025-09-07T15:24:18.558661Z",
     "iopub.status.busy": "2025-09-07T15:24:18.558310Z",
     "iopub.status.idle": "2025-09-07T15:24:18.568087Z",
     "shell.execute_reply": "2025-09-07T15:24:18.567067Z"
    },
    "papermill": {
     "duration": 0.017017,
     "end_time": "2025-09-07T15:24:18.569676",
     "exception": false,
     "start_time": "2025-09-07T15:24:18.552659",
     "status": "completed"
    },
    "tags": []
   },
   "outputs": [],
   "source": [
    "print(\"You've successfully run some Python code\")\n",
    "print(\"Congratulations!\")\n",
    "print(\"My name is Cesar\")"
   ]
  },
  {
   "cell_type": "markdown",
   "id": "0bada3ed",
   "metadata": {
    "papermill": {
     "duration": 0.004456,
     "end_time": "2025-09-07T15:24:18.579127",
     "exception": false,
     "start_time": "2025-09-07T15:24:18.574671",
     "status": "completed"
    },
    "tags": []
   },
   "source": []
  },
  {
   "cell_type": "markdown",
   "id": "b3d8153b",
   "metadata": {
    "papermill": {
     "duration": 0.004332,
     "end_time": "2025-09-07T15:24:18.587958",
     "exception": false,
     "start_time": "2025-09-07T15:24:18.583626",
     "status": "completed"
    },
    "tags": []
   },
   "source": []
  },
  {
   "cell_type": "code",
   "execution_count": null,
   "id": "037b7167",
   "metadata": {
    "papermill": {
     "duration": 0.00428,
     "end_time": "2025-09-07T15:24:18.596672",
     "exception": false,
     "start_time": "2025-09-07T15:24:18.592392",
     "status": "completed"
    },
    "tags": []
   },
   "outputs": [],
   "source": []
  },
  {
   "cell_type": "markdown",
   "id": "da700376",
   "metadata": {
    "papermill": {
     "duration": 0.004302,
     "end_time": "2025-09-07T15:24:18.605398",
     "exception": false,
     "start_time": "2025-09-07T15:24:18.601096",
     "status": "completed"
    },
    "tags": []
   },
   "source": [
    "Try adding another line of code in the cell above and re-running it. \n",
    "\n",
    "Now let's get a little fancier:  Add a new code cell by clicking on an existing code cell, hitting the escape key, and then hitting the `a` or `b` key.  The `a` key will add a cell above the current cell, and `b` adds a cell below.\n",
    "\n",
    "Great! Now you know how to use Notebooks.\n",
    "\n",
    "Each hands-on exercise starts by setting up our feedback and code checking mechanism. Run the code cell below to do that. Then you'll be ready to move on to question 0."
   ]
  },
  {
   "cell_type": "code",
   "execution_count": null,
   "id": "d592ae6d",
   "metadata": {
    "_kg_hide-input": true,
    "_kg_hide-output": true,
    "execution": {
     "iopub.execute_input": "2025-09-07T15:24:18.616136Z",
     "iopub.status.busy": "2025-09-07T15:24:18.615826Z",
     "iopub.status.idle": "2025-09-07T15:24:20.530003Z",
     "shell.execute_reply": "2025-09-07T15:24:20.528768Z"
    },
    "papermill": {
     "duration": 1.921922,
     "end_time": "2025-09-07T15:24:20.531670",
     "exception": false,
     "start_time": "2025-09-07T15:24:18.609748",
     "status": "completed"
    },
    "tags": []
   },
   "outputs": [],
   "source": [
    "from learntools.core import binder; binder.bind(globals())\n",
    "from learntools.python.ex1 import *\n",
    "print(\"Setup complete! You're ready to start question 0.\")"
   ]
  },
  {
   "cell_type": "markdown",
   "id": "6ecbeb07",
   "metadata": {
    "papermill": {
     "duration": 0.004487,
     "end_time": "2025-09-07T15:24:20.541110",
     "exception": false,
     "start_time": "2025-09-07T15:24:20.536623",
     "status": "completed"
    },
    "tags": []
   },
   "source": [
    "# 0.\n",
    "\n",
    "*This is a silly question intended as an introduction to the format we use for hands-on exercises throughout all Kaggle courses.*\n",
    "\n",
    "**What is your favorite color? **\n",
    "\n",
    "To complete this question, create a variable called `color` in the cell below with an appropriate value. The function call `q0.check()` (which we've already provided in the cell below) will check your answer."
   ]
  },
  {
   "cell_type": "code",
   "execution_count": null,
   "id": "084838f3",
   "metadata": {
    "execution": {
     "iopub.execute_input": "2025-09-07T15:24:20.551642Z",
     "iopub.status.busy": "2025-09-07T15:24:20.551197Z",
     "iopub.status.idle": "2025-09-07T15:24:20.559315Z",
     "shell.execute_reply": "2025-09-07T15:24:20.558450Z"
    },
    "papermill": {
     "duration": 0.015171,
     "end_time": "2025-09-07T15:24:20.560847",
     "exception": false,
     "start_time": "2025-09-07T15:24:20.545676",
     "status": "completed"
    },
    "tags": []
   },
   "outputs": [],
   "source": [
    "# create a variable called color with an appropriate value on the line below\n",
    "# (Remember, strings in Python must be enclosed in 'single' or \"double\" quotes)\n",
    "____\n",
    "color = 'blue'\n",
    "# Check your answer\n",
    "q0.check()"
   ]
  },
  {
   "cell_type": "markdown",
   "id": "d40d5fe8",
   "metadata": {
    "papermill": {
     "duration": 0.004811,
     "end_time": "2025-09-07T15:24:20.570855",
     "exception": false,
     "start_time": "2025-09-07T15:24:20.566044",
     "status": "completed"
    },
    "tags": []
   },
   "source": [
    "Didn't get the right answer? How do you not even know your own favorite color?!\n",
    "\n",
    "Delete the `#` in the line below to make one of the lines run. You can choose between getting a hint or the full answer by choosing which line to remove the `#` from. \n",
    "\n",
    "Removing the `#` is called uncommenting, because it changes that line from a \"comment\" which Python doesn't run to code, which Python does run."
   ]
  },
  {
   "cell_type": "code",
   "execution_count": 4,
   "id": "a85dc2b6",
   "metadata": {
    "execution": {
     "iopub.execute_input": "2025-09-07T15:24:20.582054Z",
     "iopub.status.busy": "2025-09-07T15:24:20.581758Z",
     "iopub.status.idle": "2025-09-07T15:24:20.586075Z",
     "shell.execute_reply": "2025-09-07T15:24:20.585225Z"
    },
    "papermill": {
     "duration": 0.01157,
     "end_time": "2025-09-07T15:24:20.587401",
     "exception": false,
     "start_time": "2025-09-07T15:24:20.575831",
     "status": "completed"
    },
    "tags": []
   },
   "outputs": [],
   "source": [
    "#q0.hint()\n",
    "#q0.solution()"
   ]
  },
  {
   "cell_type": "markdown",
   "id": "4aec03be",
   "metadata": {
    "papermill": {
     "duration": 0.004737,
     "end_time": "2025-09-07T15:24:20.597179",
     "exception": false,
     "start_time": "2025-09-07T15:24:20.592442",
     "status": "completed"
    },
    "tags": []
   },
   "source": [
    "The upcoming questions work the same way. The only thing that will change are the question numbers. For the next question, you'll call `q1.check()`, `q1.hint()`, `q1.solution()`, for question 2, you'll call `q2.check()`, and so on."
   ]
  },
  {
   "cell_type": "markdown",
   "id": "06e243b8",
   "metadata": {
    "papermill": {
     "duration": 0.004667,
     "end_time": "2025-09-07T15:24:20.606812",
     "exception": false,
     "start_time": "2025-09-07T15:24:20.602145",
     "status": "completed"
    },
    "tags": []
   },
   "source": [
    "<hr/>\n",
    "\n",
    "# 1.\n",
    "\n",
    "Complete the code below. In case it's helpful, here is the table of available arithmetic operations:\n",
    "\n",
    "\n",
    "\n",
    "| Operator     | Name           | Description                                            |\n",
    "|--------------|----------------|--------------------------------------------------------|\n",
    "| ``a + b``    | Addition       | Sum of ``a`` and ``b``                                 |\n",
    "| ``a - b``    | Subtraction    | Difference of ``a`` and ``b``                          |\n",
    "| ``a * b``    | Multiplication | Product of ``a`` and ``b``                             |\n",
    "| ``a / b``    | True division  | Quotient of ``a`` and ``b``                            |\n",
    "| ``a // b``   | Floor division | Quotient of ``a`` and ``b``, removing fractional parts |\n",
    "| ``a % b``    | Modulus        | Integer remainder after division of ``a`` by ``b``     |\n",
    "| ``a ** b``   | Exponentiation | ``a`` raised to the power of ``b``                     |\n",
    "| ``-a``       | Negation       | The negative of ``a``                                  |\n",
    "\n",
    "<span style=\"display:none\"></span>\n"
   ]
  },
  {
   "cell_type": "code",
   "execution_count": null,
   "id": "cb42e465",
   "metadata": {
    "execution": {
     "iopub.execute_input": "2025-09-07T15:24:20.617750Z",
     "iopub.status.busy": "2025-09-07T15:24:20.617383Z",
     "iopub.status.idle": "2025-09-07T15:24:20.625296Z",
     "shell.execute_reply": "2025-09-07T15:24:20.624431Z"
    },
    "papermill": {
     "duration": 0.015139,
     "end_time": "2025-09-07T15:24:20.626783",
     "exception": false,
     "start_time": "2025-09-07T15:24:20.611644",
     "status": "completed"
    },
    "tags": []
   },
   "outputs": [],
   "source": [
    "pi = 3.14159 # approximate\n",
    "diameter = 3\n",
    "\n",
    "# Create a variable called 'radius' equal to half the diameter\n",
    "radius = diameter/2\n",
    "____\n",
    "\n",
    "# Create a variable called 'area', using the formula for the area of a circle: pi times the radius squared\n",
    "\n",
    "area =  pi * radius * radius\n",
    "____\n",
    "\n",
    "# Check your answer\n",
    "q1.check()"
   ]
  },
  {
   "cell_type": "code",
   "execution_count": 6,
   "id": "bf9f7b74",
   "metadata": {
    "execution": {
     "iopub.execute_input": "2025-09-07T15:24:20.638427Z",
     "iopub.status.busy": "2025-09-07T15:24:20.638102Z",
     "iopub.status.idle": "2025-09-07T15:24:20.642124Z",
     "shell.execute_reply": "2025-09-07T15:24:20.641227Z"
    },
    "papermill": {
     "duration": 0.011464,
     "end_time": "2025-09-07T15:24:20.643497",
     "exception": false,
     "start_time": "2025-09-07T15:24:20.632033",
     "status": "completed"
    },
    "tags": []
   },
   "outputs": [],
   "source": [
    "# Uncomment and run the lines below if you need help.\n",
    "#q1.hint()\n",
    "#q1.solution()"
   ]
  },
  {
   "cell_type": "markdown",
   "id": "b1c42138",
   "metadata": {
    "papermill": {
     "duration": 0.004901,
     "end_time": "2025-09-07T15:24:20.655390",
     "exception": false,
     "start_time": "2025-09-07T15:24:20.650489",
     "status": "completed"
    },
    "tags": []
   },
   "source": [
    "<hr/>\n",
    "\n",
    "# 2.\n",
    "\n",
    "Add code to the following cell to swap variables `a` and `b` (so that `a` refers to the object previously referred to by `b` and vice versa)."
   ]
  },
  {
   "cell_type": "code",
   "execution_count": null,
   "id": "d3927446",
   "metadata": {
    "execution": {
     "iopub.execute_input": "2025-09-07T15:24:20.667580Z",
     "iopub.status.busy": "2025-09-07T15:24:20.666537Z",
     "iopub.status.idle": "2025-09-07T15:24:20.675014Z",
     "shell.execute_reply": "2025-09-07T15:24:20.673988Z"
    },
    "papermill": {
     "duration": 0.015997,
     "end_time": "2025-09-07T15:24:20.676505",
     "exception": false,
     "start_time": "2025-09-07T15:24:20.660508",
     "status": "completed"
    },
    "tags": []
   },
   "outputs": [],
   "source": [
    "########### Setup code - don't touch this part ######################\n",
    "# If you're curious, these are examples of lists. We'll talk about \n",
    "# them in depth a few lessons from now. For now, just know that they're\n",
    "# yet another type of Python object, like int or float.\n",
    "a = [1, 2, 3]\n",
    "b = [3, 2, 1]\n",
    "q2.store_original_ids()\n",
    "######################################################################\n",
    "\n",
    "# Your code goes here. Swap the values to which a and b refer.\n",
    "# If you get stuck, you can always uncomment one or both of the lines in\n",
    "# the next cell for a hint, or to peek at the solution.\n",
    "aux = a\n",
    "a = b\n",
    "b= aux\n",
    "\n",
    "\n",
    "######################################################################\n",
    "\n",
    "# Check your answer\n",
    "q2.check()"
   ]
  },
  {
   "cell_type": "code",
   "execution_count": 8,
   "id": "5b14b89c",
   "metadata": {
    "execution": {
     "iopub.execute_input": "2025-09-07T15:24:20.688964Z",
     "iopub.status.busy": "2025-09-07T15:24:20.688628Z",
     "iopub.status.idle": "2025-09-07T15:24:20.692323Z",
     "shell.execute_reply": "2025-09-07T15:24:20.691640Z"
    },
    "papermill": {
     "duration": 0.011587,
     "end_time": "2025-09-07T15:24:20.693833",
     "exception": false,
     "start_time": "2025-09-07T15:24:20.682246",
     "status": "completed"
    },
    "tags": []
   },
   "outputs": [],
   "source": [
    "#q2.hint()"
   ]
  },
  {
   "cell_type": "code",
   "execution_count": 9,
   "id": "b75bc981",
   "metadata": {
    "execution": {
     "iopub.execute_input": "2025-09-07T15:24:20.706304Z",
     "iopub.status.busy": "2025-09-07T15:24:20.705992Z",
     "iopub.status.idle": "2025-09-07T15:24:20.709870Z",
     "shell.execute_reply": "2025-09-07T15:24:20.709059Z"
    },
    "papermill": {
     "duration": 0.011758,
     "end_time": "2025-09-07T15:24:20.711290",
     "exception": false,
     "start_time": "2025-09-07T15:24:20.699532",
     "status": "completed"
    },
    "tags": []
   },
   "outputs": [],
   "source": [
    "#q2.solution()"
   ]
  },
  {
   "cell_type": "markdown",
   "id": "f10706a7",
   "metadata": {
    "papermill": {
     "duration": 0.005292,
     "end_time": "2025-09-07T15:24:20.722371",
     "exception": false,
     "start_time": "2025-09-07T15:24:20.717079",
     "status": "completed"
    },
    "tags": []
   },
   "source": [
    "<hr/>\n",
    "\n",
    "# 3a.\n",
    "\n",
    "Add parentheses to the following expression so that it evaluates to 1."
   ]
  },
  {
   "cell_type": "code",
   "execution_count": null,
   "id": "3a2021cb",
   "metadata": {
    "execution": {
     "iopub.execute_input": "2025-09-07T15:24:20.734897Z",
     "iopub.status.busy": "2025-09-07T15:24:20.734619Z",
     "iopub.status.idle": "2025-09-07T15:24:20.740181Z",
     "shell.execute_reply": "2025-09-07T15:24:20.739456Z"
    },
    "papermill": {
     "duration": 0.013495,
     "end_time": "2025-09-07T15:24:20.741532",
     "exception": false,
     "start_time": "2025-09-07T15:24:20.728037",
     "status": "completed"
    },
    "tags": []
   },
   "outputs": [],
   "source": [
    "((5 - 3) // 2)"
   ]
  },
  {
   "cell_type": "code",
   "execution_count": 11,
   "id": "4965b8d9",
   "metadata": {
    "execution": {
     "iopub.execute_input": "2025-09-07T15:24:20.754031Z",
     "iopub.status.busy": "2025-09-07T15:24:20.753762Z",
     "iopub.status.idle": "2025-09-07T15:24:20.757735Z",
     "shell.execute_reply": "2025-09-07T15:24:20.756748Z"
    },
    "papermill": {
     "duration": 0.011893,
     "end_time": "2025-09-07T15:24:20.759152",
     "exception": false,
     "start_time": "2025-09-07T15:24:20.747259",
     "status": "completed"
    },
    "tags": []
   },
   "outputs": [],
   "source": [
    "#q3.a.hint()"
   ]
  },
  {
   "cell_type": "code",
   "execution_count": null,
   "id": "cc7556ea",
   "metadata": {
    "execution": {
     "iopub.execute_input": "2025-09-07T15:24:20.771334Z",
     "iopub.status.busy": "2025-09-07T15:24:20.771056Z",
     "iopub.status.idle": "2025-09-07T15:24:20.777816Z",
     "shell.execute_reply": "2025-09-07T15:24:20.777088Z"
    },
    "papermill": {
     "duration": 0.014481,
     "end_time": "2025-09-07T15:24:20.779135",
     "exception": false,
     "start_time": "2025-09-07T15:24:20.764654",
     "status": "completed"
    },
    "tags": []
   },
   "outputs": [],
   "source": [
    "# Check your answer (Run this code cell to receive credit!)\n",
    "q3.a.solution()"
   ]
  },
  {
   "cell_type": "markdown",
   "id": "e441f991",
   "metadata": {
    "papermill": {
     "duration": 0.005491,
     "end_time": "2025-09-07T15:24:20.790620",
     "exception": false,
     "start_time": "2025-09-07T15:24:20.785129",
     "status": "completed"
    },
    "tags": []
   },
   "source": [
    "# 3b.  <span title=\"A bit spicy\" style=\"color: darkgreen \">🌶️</span>\n",
    "\n",
    "<small>Questions, like this one, marked a spicy pepper are a bit harder.</small>\n",
    "\n",
    "Add parentheses to the following expression so that it evaluates to 0."
   ]
  },
  {
   "cell_type": "code",
   "execution_count": null,
   "id": "d0be43cf",
   "metadata": {
    "execution": {
     "iopub.execute_input": "2025-09-07T15:24:20.802898Z",
     "iopub.status.busy": "2025-09-07T15:24:20.802622Z",
     "iopub.status.idle": "2025-09-07T15:24:20.808738Z",
     "shell.execute_reply": "2025-09-07T15:24:20.807901Z"
    },
    "papermill": {
     "duration": 0.014075,
     "end_time": "2025-09-07T15:24:20.810177",
     "exception": false,
     "start_time": "2025-09-07T15:24:20.796102",
     "status": "completed"
    },
    "tags": []
   },
   "outputs": [],
   "source": [
    "8 - (3 * 2) - (1 + 1)"
   ]
  },
  {
   "cell_type": "code",
   "execution_count": 14,
   "id": "f318c9d0",
   "metadata": {
    "execution": {
     "iopub.execute_input": "2025-09-07T15:24:20.823376Z",
     "iopub.status.busy": "2025-09-07T15:24:20.822773Z",
     "iopub.status.idle": "2025-09-07T15:24:20.826741Z",
     "shell.execute_reply": "2025-09-07T15:24:20.825808Z"
    },
    "papermill": {
     "duration": 0.012334,
     "end_time": "2025-09-07T15:24:20.828362",
     "exception": false,
     "start_time": "2025-09-07T15:24:20.816028",
     "status": "completed"
    },
    "tags": []
   },
   "outputs": [],
   "source": [
    "#q3.b.hint()"
   ]
  },
  {
   "cell_type": "code",
   "execution_count": null,
   "id": "ee9165f0",
   "metadata": {
    "execution": {
     "iopub.execute_input": "2025-09-07T15:24:20.841374Z",
     "iopub.status.busy": "2025-09-07T15:24:20.841060Z",
     "iopub.status.idle": "2025-09-07T15:24:20.847576Z",
     "shell.execute_reply": "2025-09-07T15:24:20.846822Z"
    },
    "papermill": {
     "duration": 0.014481,
     "end_time": "2025-09-07T15:24:20.848996",
     "exception": false,
     "start_time": "2025-09-07T15:24:20.834515",
     "status": "completed"
    },
    "tags": []
   },
   "outputs": [],
   "source": [
    "# Check your answer (Run this code cell to receive credit!)\n",
    "q3.b.solution()"
   ]
  },
  {
   "cell_type": "markdown",
   "id": "bc486818",
   "metadata": {
    "papermill": {
     "duration": 0.00568,
     "end_time": "2025-09-07T15:24:20.860737",
     "exception": false,
     "start_time": "2025-09-07T15:24:20.855057",
     "status": "completed"
    },
    "tags": []
   },
   "source": [
    "<hr/>\n",
    "\n",
    "# 4. \n",
    "Alice, Bob and Carol have agreed to pool their Halloween candy and split it evenly among themselves.\n",
    "For the sake of their friendship, any candies left over will be smashed. For example, if they collectively\n",
    "bring home 91 candies, they'll take 30 each and smash 1.\n",
    "\n",
    "Write an arithmetic expression below to calculate how many candies they must smash for a given haul."
   ]
  },
  {
   "cell_type": "code",
   "execution_count": null,
   "id": "b00943bb",
   "metadata": {
    "execution": {
     "iopub.execute_input": "2025-09-07T15:24:20.873513Z",
     "iopub.status.busy": "2025-09-07T15:24:20.873178Z",
     "iopub.status.idle": "2025-09-07T15:24:20.880353Z",
     "shell.execute_reply": "2025-09-07T15:24:20.879703Z"
    },
    "papermill": {
     "duration": 0.015089,
     "end_time": "2025-09-07T15:24:20.881574",
     "exception": false,
     "start_time": "2025-09-07T15:24:20.866485",
     "status": "completed"
    },
    "tags": []
   },
   "outputs": [],
   "source": [
    "# Variables representing the number of candies collected by alice, bob, and carol\n",
    "alice_candies = 121\n",
    "bob_candies = 77\n",
    "carol_candies = 109\n",
    "\n",
    "# Your code goes here! Replace the right-hand side of this assignment with an expression\n",
    "# involving alice_candies, bob_candies, and carol_candies\n",
    "to_smash = (alice_candies + bob_candies + carol_candies) % 3\n",
    "\n",
    "# Check your answer\n",
    "q4.check()"
   ]
  },
  {
   "cell_type": "code",
   "execution_count": 17,
   "id": "5fbb0844",
   "metadata": {
    "execution": {
     "iopub.execute_input": "2025-09-07T15:24:20.895730Z",
     "iopub.status.busy": "2025-09-07T15:24:20.894906Z",
     "iopub.status.idle": "2025-09-07T15:24:20.898677Z",
     "shell.execute_reply": "2025-09-07T15:24:20.897993Z"
    },
    "papermill": {
     "duration": 0.012016,
     "end_time": "2025-09-07T15:24:20.899901",
     "exception": false,
     "start_time": "2025-09-07T15:24:20.887885",
     "status": "completed"
    },
    "tags": []
   },
   "outputs": [],
   "source": [
    "#q4.hint()\n",
    "#q4.solution()"
   ]
  },
  {
   "cell_type": "markdown",
   "id": "02286d9a",
   "metadata": {
    "papermill": {
     "duration": 0.005777,
     "end_time": "2025-09-07T15:24:20.911758",
     "exception": false,
     "start_time": "2025-09-07T15:24:20.905981",
     "status": "completed"
    },
    "tags": []
   },
   "source": [
    "# Keep Going\n",
    "\n",
    "Next up, you'll **[learn to write new functions and understand functions others write](https://www.kaggle.com/colinmorris/functions-and-getting-help)**. This will make you at least 10 times more productive as a Python programmer. "
   ]
  },
  {
   "cell_type": "markdown",
   "id": "34969741",
   "metadata": {
    "papermill": {
     "duration": 0.005631,
     "end_time": "2025-09-07T15:24:20.923229",
     "exception": false,
     "start_time": "2025-09-07T15:24:20.917598",
     "status": "completed"
    },
    "tags": []
   },
   "source": [
    "---\n",
    "\n",
    "\n",
    "\n",
    "\n",
    "*Have questions or comments? Visit the [course discussion forum](https://www.kaggle.com/learn/python/discussion) to chat with other learners.*"
   ]
  }
 ],
 "metadata": {
  "kaggle": {
   "accelerator": "none",
   "dataSources": [],
   "isGpuEnabled": false,
   "isInternetEnabled": false,
   "language": "python",
   "sourceType": "notebook"
  },
  "kernelspec": {
   "display_name": "Python 3",
   "language": "python",
   "name": "python3"
  },
  "language_info": {
   "codemirror_mode": {
    "name": "ipython",
    "version": 3
   },
   "file_extension": ".py",
   "mimetype": "text/x-python",
   "name": "python",
   "nbconvert_exporter": "python",
   "pygments_lexer": "ipython3",
   "version": "3.11.13"
  },
  "learntools_metadata": {
   "lesson_index": 0,
   "type": "exercise"
  },
  "papermill": {
   "default_parameters": {},
   "duration": 8.329806,
   "end_time": "2025-09-07T15:24:21.448647",
   "environment_variables": {},
   "exception": null,
   "input_path": "__notebook__.ipynb",
   "output_path": "__notebook__.ipynb",
   "parameters": {},
   "start_time": "2025-09-07T15:24:13.118841",
   "version": "2.6.0"
  }
 },
 "nbformat": 4,
 "nbformat_minor": 5
}
